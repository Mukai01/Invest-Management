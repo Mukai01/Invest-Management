{
 "cells": [
  {
   "cell_type": "code",
   "execution_count": 1,
   "id": "d30c8616",
   "metadata": {},
   "outputs": [],
   "source": [
    "from pathlib import Path\n",
    "# BASE_DIR = Path(__file__).resolve().parent.parent.parent\n",
    "#from django_pandas.io import read_frame\n",
    "import pandas as pd\n",
    "from datetime import date,timedelta\n",
    "import matplotlib.pyplot as plt\n",
    "import japanize_matplotlib\n",
    "import calendar\n",
    "\n",
    "# 最終日を取得する関数\n",
    "def get_last_date(dt):\n",
    "    return dt.replace(day=calendar.monthrange(dt.year, dt.month)[1])\n",
    "\n",
    "# 最終日を取得する関数\n",
    "def get_last_date(dt):\n",
    "    return dt.replace(day=calendar.monthrange(dt.year, dt.month)[1])\n",
    "\n",
    "def make_invest_timeseries(df):\n",
    "    # 型の変更\n",
    "    df['invest_date'] = pd.to_datetime(df['invest_date'])\n",
    "\n",
    "    # もし今日よりも最終日の月末が後だったら最終日の日付を使用する\n",
    "    if get_last_date(df['invest_date'].max()) >= date.today():\n",
    "        last_date = df['invest_date'].max()\n",
    "    else:\n",
    "        last_date = get_last_date(df['invest_date'].max())\n",
    "\n",
    "    # カレンダーを作成し結合\n",
    "    dates_DF = pd.DataFrame(index=pd.date_range(df['invest_date'].min()-timedelta(days=1), last_date, freq='D'))\n",
    "    df=df.set_index('invest_date')\n",
    "    df=pd.merge(dates_DF,df,how='left',right_index=True, left_index=True)\n",
    "\n",
    "    # 欠損値処理\n",
    "    df = df.fillna(0)\n",
    "    df=df.reset_index()\n",
    "\n",
    "    # 集計\n",
    "    df2 = df.groupby('index').sum()\n",
    "\n",
    "    # 累計を計算、単位変更\n",
    "    for i in df2.columns:\n",
    "        df2[i] = df2[i].cumsum()\n",
    "        df2[i] = df2[i]/10000\n",
    "        \n",
    "    # 可視化\n",
    "    plt.rcParams['figure.subplot.bottom'] = 0.3\n",
    "    plt.rcParams['figure.subplot.top'] = 1\n",
    "    plt.figure(figsize=(10,3.5))\n",
    "\n",
    "    plt.stackplot(df2.index,df2['all_invest'],df2['topix_invest'],df2['developed_invest'],df2['developing_invest'],labels=['全世界','先進国','日本','新興国'])\n",
    "    plt.legend(loc='upper left')\n",
    "    plt.xticks(rotation=90, fontsize=11)\n",
    "    plt.yticks(fontsize=12)\n",
    "    plt.ylabel('投資額(万円)',fontsize=15)\n",
    "    plt.grid()\n",
    "    # plt.savefig(str(BASE_DIR)+'/static/images/invest_timeseries.png')\n",
    "\n",
    "    stock_list=['all_price', 'developed_price', 'topix_price', 'developing_price']\n",
    "    name_dic={'all_price':'全世界', 'developed_price': '先進国', 'topix_price':'日本', 'developing_price':'新興国'}\n",
    "    for i in stock_list:\n",
    "        temp = df.loc[df[i]>0,['index', i]]\n",
    "        plt.plot(temp['index'], temp[i], label = name_dic[i])\n",
    "\n",
    "    plt.legend(loc='upper left')\n",
    "    plt.xticks(rotation=90, fontsize=11)\n",
    "    plt.yticks(fontsize=12)\n",
    "    plt.ylabel('基準価額',fontsize=15)\n",
    "    plt.grid()\n",
    "    # plt.savefig(str(BASE_DIR)+'/static/images/price_timeseries.png')"
   ]
  },
  {
   "cell_type": "code",
   "execution_count": 2,
   "id": "a3e653b0",
   "metadata": {},
   "outputs": [
    {
     "data": {
      "image/png": "[encoded data removed]",
      "text/plain": [
       "<Figure size 720x252 with 1 Axes>"
      ]
     },
     "metadata": {
      "needs_background": "light"
     },
     "output_type": "display_data"
    }
   ],
   "source": [
    "# データフレーム読み込み\n",
    "df = pd.read_csv('test_invest_timeseries.csv')\n",
    "make_invest_timeseries(df)"
   ]
  },
  {
   "cell_type": "code",
   "execution_count": null,
   "id": "3033a63d",
   "metadata": {},
   "outputs": [],
   "source": []
  }
 ],
 "metadata": {
  "kernelspec": {
   "display_name": "Python 3",
   "language": "python",
   "name": "python3"
  },
  "language_info": {
   "codemirror_mode": {
    "name": "ipython",
    "version": 3
   },
   "file_extension": ".py",
   "mimetype": "text/x-python",
   "name": "python",
   "nbconvert_exporter": "python",
   "pygments_lexer": "ipython3",
   "version": "3.8.8"
  }
 },
 "nbformat": 4,
 "nbformat_minor": 5
}
