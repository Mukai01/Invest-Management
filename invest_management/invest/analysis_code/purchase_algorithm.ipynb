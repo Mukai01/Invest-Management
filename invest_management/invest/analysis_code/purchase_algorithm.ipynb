{
 "cells": [
  {
   "cell_type": "code",
   "execution_count": 32,
   "id": "7dbb7206",
   "metadata": {},
   "outputs": [],
   "source": [
    "# purchase_algorithm.py\n",
    "# ライブラリインポート\n",
    "from urllib import request\n",
    "from bs4 import BeautifulSoup\n",
    "import re\n",
    "import matplotlib.pyplot as plt\n",
    "import japanize_matplotlib\n",
    "\n",
    "def get_stockvalue(url):\n",
    "    # htmlを取得\n",
    "    response = request.urlopen(url)\n",
    "    content = response.read()\n",
    "    response.close()\n",
    "    html = content.decode()\n",
    "    #print(html)\n",
    "    \n",
    "    # 以下の要素を取りに行く\n",
    "    # <td class=\"br0\"><span class=\"value-01\">15,360</span> 円 （10/1）</td>\n",
    "    soup = BeautifulSoup(html)\n",
    "    table_elements = soup.find_all('td', class_='br0')\n",
    "    \n",
    "    # 数値のみに変換\n",
    "    stock_value = table_elements[0].get_text()\n",
    "    p = re.compile(r'\\d+,\\d+')\n",
    "    stock_value = p.match(stock_value).group()\n",
    "    stock_value = int(stock_value.replace(',',''))\n",
    "    return stock_value\n",
    "\n",
    "def calculate_algorithm():\n",
    "    # urlを定義\n",
    "    url_dic = {\n",
    "        'developed':'https://www.rakuten-sec.co.jp/web/fund/detail/?ID=JP90C0009VE0',\n",
    "        'japan':'https://www.rakuten-sec.co.jp/web/fund/detail/?ID=JP90C000ENA9',\n",
    "        'developing':'https://www.rakuten-sec.co.jp/web/fund/detail/?ID=JP90C000F7H5',\n",
    "        'all country':'https://www.rakuten-sec.co.jp/web/fund/detail/?ID=JP90C000H1T1',\n",
    "    }\n",
    "    # Target Portfolio\n",
    "    portfolio_dic = {\n",
    "        'developed':0.31875,\n",
    "        'japan':0.16875,\n",
    "        'developing':0.0125,\n",
    "        'all country':0.5,\n",
    "    }\n",
    "    \n",
    "    # 株の基準額\n",
    "    stock_base_dic = {\n",
    "        'developed':24159,\n",
    "        'japan':14917,\n",
    "        'developing':12748,\n",
    "        'all country':15698\n",
    "    }\n",
    "\n",
    "    # 名前リスト\n",
    "    name_list =[\"先進国\", \"日本\", \"新興国\", \"全世界\"]\n",
    "    # 毎週の基準投資額\n",
    "    invest_per_week = 137416.6\n",
    "    \n",
    "    # 実行\n",
    "    stock_dic = {}\n",
    "    for i in url_dic:\n",
    "        stock_value = get_stockvalue(url_dic[i])\n",
    "        stock_dic[i] = stock_value\n",
    "        print('{}の基準価額は{}でした...'.format(i, stock_dic[i]))\n",
    "        \n",
    "    # 購入額を計算    \n",
    "    invest_algorithm_dic = {}\n",
    "    invest_base_dic = {}\n",
    "    for i in stock_dic:\n",
    "        # 補正係数を計算\n",
    "        correction = 2**((1-stock_dic[i]/stock_base_dic[i])*10) \n",
    "        # 補正係数をかける\n",
    "        invest_algorithm_dic[i] = invest_per_week * portfolio_dic[i] * correction\n",
    "        # 基準投資額も計算\n",
    "        invest_base_dic[i] =  invest_per_week * portfolio_dic[i]\n",
    "\n",
    "    # 結果を格納\n",
    "    print(\"基準価額:\", stock_dic)\n",
    "    print(\"基準投資額:\", invest_base_dic)\n",
    "    print(\"計算購入額:\", invest_algorithm_dic)\n",
    "    return stock_dic, invest_base_dic, invest_algorithm_dic"
   ]
  },
  {
   "cell_type": "code",
   "execution_count": 33,
   "id": "ad8409f6",
   "metadata": {},
   "outputs": [
    {
     "name": "stdout",
     "output_type": "stream",
     "text": [
      "developedの基準価額は24426でした...\n",
      "japanの基準価額は14221でした...\n",
      "developingの基準価額は13050でした...\n",
      "all countryの基準価額は15839でした...\n",
      "基準価額: {'developed': 24426, 'japan': 14221, 'developing': 13050, 'all country': 15839}\n",
      "基準投資額: {'developed': 43801.54125, 'japan': 23189.051250000004, 'developing': 1717.7075000000002, 'all country': 68708.3}\n",
      "計算購入額: {'developed': 40571.42050026423, 'japan': 32043.362529342754, 'developing': 1457.5895105716588, 'all country': 64561.04938707411}\n"
     ]
    },
    {
     "data": {
      "text/plain": [
       "({'developed': 24426,\n",
       "  'japan': 14221,\n",
       "  'developing': 13050,\n",
       "  'all country': 15839},\n",
       " {'developed': 43801.54125,\n",
       "  'japan': 23189.051250000004,\n",
       "  'developing': 1717.7075000000002,\n",
       "  'all country': 68708.3},\n",
       " {'developed': 40571.42050026423,\n",
       "  'japan': 32043.362529342754,\n",
       "  'developing': 1457.5895105716588,\n",
       "  'all country': 64561.04938707411})"
      ]
     },
     "execution_count": 33,
     "metadata": {},
     "output_type": "execute_result"
    }
   ],
   "source": [
    "calculate_algorithm()"
   ]
  },
  {
   "cell_type": "code",
   "execution_count": 18,
   "id": "444e0459",
   "metadata": {},
   "outputs": [
    {
     "data": {
      "image/png": "[encoded data removed]",
      "text/plain": [
       "<Figure size 432x288 with 1 Axes>"
      ]
     },
     "metadata": {},
     "output_type": "display_data"
    }
   ],
   "source": [
    "plt.title('Target Portfolio',fontsize=18)\n",
    "plt.pie(invest_base_dic.values(), labels=name_list)\n",
    "plt.show()"
   ]
  },
  {
   "cell_type": "code",
   "execution_count": 20,
   "id": "17dc6499",
   "metadata": {},
   "outputs": [
    {
     "data": {
      "image/png": "[encoded data removed]",
      "text/plain": [
       "<Figure size 432x288 with 1 Axes>"
      ]
     },
     "metadata": {},
     "output_type": "display_data"
    }
   ],
   "source": [
    "plt.title('Purchesing Portfolio',fontsize=18)\n",
    "plt.pie(invest_algorithm_dic.values(), labels=name_list)\n",
    "plt.show()"
   ]
  }
 ],
 "metadata": {
  "kernelspec": {
   "display_name": "Python 3",
   "language": "python",
   "name": "python3"
  },
  "language_info": {
   "codemirror_mode": {
    "name": "ipython",
    "version": 3
   },
   "file_extension": ".py",
   "mimetype": "text/x-python",
   "name": "python",
   "nbconvert_exporter": "python",
   "pygments_lexer": "ipython3",
   "version": "3.8.8"
  }
 },
 "nbformat": 4,
 "nbformat_minor": 5
}
